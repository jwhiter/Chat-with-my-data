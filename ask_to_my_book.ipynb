{
 "cells": [
  {
   "cell_type": "code",
   "execution_count": 2,
   "metadata": {},
   "outputs": [],
   "source": [
    "from PyPDF2 import PdfReader\n",
    "from langchain.chains import RetrievalQA\n",
    "# from langchain.vectorstores import Chroma\n",
    "from langchain_community.vectorstores import FAISS\n",
    "from langchain_openai import AzureOpenAIEmbeddings\n",
    "from langchain.text_splitter import CharacterTextSplitter, RecursiveCharacterTextSplitter\n",
    "from langchain_openai import AzureChatOpenAI\n",
    "from langchain.chat_models import ChatOpenAI\n",
    "import openai\n",
    "import os\n",
    "import streamlit as st\n",
    "\n",
    "class Document:\n",
    "    def __init__(self, file, all_text = \"\") -> None:\n",
    "        self.file_name = file.replace(\".pdf\", \"\").replace(\".\", \"_\")\n",
    "        self.all_text = all_text\n",
    "        self.file = file\n",
    "        openai.api_key = st.secrets['AZURE_OPENAI_API_KEY']\n",
    "        openai.api_base = st.secrets[\"AZURE_OPENAI_ENDPOINT\"]\n",
    "        openai.api_type = \"azure\"\n",
    "        openai.api_version = \"2023-05-15\"\n",
    "        os.environ[\"AZURE_OPENAI_API_KEY\"] = openai.api_key\n",
    "        os.environ[\"AZURE_OPENAI_ENDPOINT\"] = openai.api_base\n",
    "        os.environ[\"OPENAI_API_TYPE\"] = openai.api_type\n",
    "        os.environ[\"OPENAI_API_KEY\"] = openai.api_key\n",
    "        os.environ[\"OPENAI_ENDPOINT\"] = openai.api_base\n",
    " \n",
    "\n",
    "    def create_chunks(self, chunk_size=1000):\n",
    "        if self.all_text == \"\":\n",
    "            #Read the file\n",
    "            pdf_reader = PdfReader(self.file)\n",
    "            all_text = \"\"\n",
    "            for page in range(len(pdf_reader.pages)):\n",
    "                all_text += pdf_reader.pages[page].extract_text() + '\\n\\n'\n",
    "            self.all_text = all_text\n",
    "            print(\"Document read\")\n",
    "        \n",
    "        # Split into document objects   \n",
    "        text_splitter = RecursiveCharacterTextSplitter(\n",
    "            chunk_size=chunk_size,\n",
    "            chunk_overlap=20,\n",
    "            length_function=len,\n",
    "            is_separator_regex=False,\n",
    "        )\n",
    "        chunks = text_splitter.create_documents([self.all_text])\n",
    "        return chunks \n",
    "    \n",
    "    def get_db(self):\n",
    "        embedding_model = AzureOpenAIEmbeddings(azure_deployment=\"text-embedding-ada-002\")\n",
    "        chunks = Document.create_chunks(self)\n",
    "        vectordb = FAISS.from_documents(chunks, embedding_model)\n",
    "        return vectordb"
   ]
  },
  {
   "cell_type": "code",
   "execution_count": 5,
   "metadata": {},
   "outputs": [
    {
     "name": "stdout",
     "output_type": "stream",
     "text": [
      "Document read\n"
     ]
    }
   ],
   "source": [
    "document_reader = Document(\"wounds-and-lacerations-emergency-care-and-closure.pdf\")\n",
    "db = document_reader.get_db()\n",
    "# db = db.save_local(\"faiss_index\")\n",
    "\n",
    "# new_db = FAISS.load_local(\"faiss_index\", embeddings)"
   ]
  },
  {
   "cell_type": "code",
   "execution_count": 6,
   "metadata": {},
   "outputs": [],
   "source": [
    "db = db.save_local(\"faiss_index/wounds-and-lacerations-emergency-care-and-closure\")"
   ]
  },
  {
   "cell_type": "code",
   "execution_count": 9,
   "metadata": {},
   "outputs": [],
   "source": [
    "embedding_model = AzureOpenAIEmbeddings(azure_deployment=\"text-embedding-ada-002\")\n",
    "new_db = FAISS.load_local(\"faiss_index/wounds-and-lacerations-emergency-care-and-closure\", embedding_model, allow_dangerous_deserialization=True)"
   ]
  },
  {
   "cell_type": "code",
   "execution_count": 15,
   "metadata": {},
   "outputs": [],
   "source": [
    "class Question_Engine: \n",
    "    def __init__(self, vectordb) -> None:\n",
    "        self.vectordb = vectordb\n",
    "        self.llm = AzureChatOpenAI(deployment_name='gpt-4', \n",
    "                      model_name='gpt-4', \n",
    "                      temperature=0, \n",
    "                      api_version=\"2023-08-01-preview\")\n",
    "        self.qa_chain = RetrievalQA.from_chain_type(\n",
    "            llm = self.llm, \n",
    "            chain_type=\"stuff\", \n",
    "            retriever=self.vectordb.as_retriever(),\n",
    "            return_source_documents=True,\n",
    "        )\n",
    "\n",
    "    def get_answer(self, query):\n",
    "        llm_response = self.qa_chain({\"query\": query})\n",
    "        return llm_response"
   ]
  },
  {
   "cell_type": "code",
   "execution_count": 16,
   "metadata": {},
   "outputs": [],
   "source": [
    "qEngine =  Question_Engine(new_db)"
   ]
  },
  {
   "cell_type": "code",
   "execution_count": 17,
   "metadata": {},
   "outputs": [
    {
     "name": "stderr",
     "output_type": "stream",
     "text": [
      "c:\\Users\\jesus\\anaconda3\\envs\\chatbot\\Lib\\site-packages\\langchain_core\\_api\\deprecation.py:117: LangChainDeprecationWarning: The function `__call__` was deprecated in LangChain 0.1.0 and will be removed in 0.2.0. Use invoke instead.\n",
      "  warn_deprecated(\n"
     ]
    }
   ],
   "source": [
    "llm_response = qEngine.get_answer(\"Que es la anestesia\")"
   ]
  },
  {
   "cell_type": "code",
   "execution_count": 18,
   "metadata": {},
   "outputs": [
    {
     "data": {
      "text/plain": [
       "{'query': 'Que es la anestesia',\n",
       " 'result': 'La anestesia es un método utilizado para prevenir el dolor durante los procedimientos médicos. Funciona al interferir con la transmisión de impulsos nerviosos, lo que evita que el paciente sienta dolor. Los anestésicos locales, como la lidocaína, la mepivacaína y la bupivacaína, se infiltran en los tejidos y difunden a través de las membranas y vainas neurales. Al prevenir la entrada de sodio a través de las membranas nerviosas, se bloquea la conducción del impulso nervioso. Sin impulsos nerviosos, se logra la anestesia. La elección del anestésico y la técnica a utilizar debe ser individualizada para cada paciente, teniendo en cuenta factores como el tipo, la ubicación y la extensión de la herida, así como la duración estimada del procedimiento.',\n",
       " 'source_documents': [Document(page_content='Effective anesthesia is essential for successful patient intervention and wound repair.\\nAs with any procedure, success depends on a thorough understanding of the properties\\nof anesthetic solutions and injection techniques. The choice of anesthetics and techniquesmust be individualized for every patient. The type, location, and extent of the woundand estimated length of time for repair are variables that make each patient unique. Besidestechnical considerations, patients have differing emotional characteristics and responses.Patients often fear that injections and needles will cause excessive pain. A clear explana-tion of the procedure and gentle handling gain the confidence of the patient and ease anyapprehension.\\nPHARMACOLOGY OF LOCAL ANESTHETICS'),\n",
       "  Document(page_content='cedure sedation. Equipment requirements and operator experience make this method ofsedation of limited usefulness in laceration repair and wound care.\\nThe “best” sedative for anxious and frightened patients, particularly children, is an\\nempathic, calm, and sensitive approach resulting from experience. Most patients, if handledappropriately, can overcome their anxiety and cooperate with laceration repair and minorwound care. Active sedation has its place for complex and painful procedures, but the styleand demeanor of the physician or nurse cannot be overemphasized.\\nTechniques, agents, and doses for sedation of children are discussed in Chapter 5.\\nConscious sedation for adults is summarized in Box 6-1.\\nANESTHETIC SOLUTIONS\\nThree anesthetic solutions are commonly used for local infiltration and simple nerve block(Table 6-2): lidocaine, mepivacaine, and bupivacaine. The amide derivatives have largelyreplaced the older ester compounds such as procaine.\\nLidocaine'),\n",
       "  Document(page_content='Mechanism of Blockade\\nOn injection, local anesthetics infiltrate tissues and diffuse across neural sheaths and mem-\\nbranes. They act by interfering with neural depolarization and transmission of impulses alongaxons. Prevention of sodium influx across nerve membranes is considered the physiologicbasis for impulse conduction blockade. As sodium influx decreases, there is a decrease in therate of rise in amplitude of the polarization. As a result, there is inadequate formation ofaction potential, and with no action potential, there is no nerve impulse. Without nerveimpulses, anesthesia is achieved.\\nOnset of Action'),\n",
       "  Document(page_content='meaning pain control, and a local anesthetic still must be used. The operating room shouldbe considered in children with complex lacerations or medical conditions that could increasethe risks involved in conscious sedation. At our institution, we rarely are required to sedatea child with an uncomplicated laceration. We believe this is so because of the frequent useof LET (lidocaine 4%, epinephrine 0.1%, and tetracaine 0.5% solution or gel), which elimi-nates the pain of injection, and use of distracting techniques and certified child life specialistswhen available. In cases when conscious sedation is required, we are most comfortable usingmidazolam, fentanyl, or these agents in combination because of the user’s ability to titrate tothe desired level of consciousness, or ketamine.\\nLOCAL ANESTHETIC TECHNIQUES')]}"
      ]
     },
     "execution_count": 18,
     "metadata": {},
     "output_type": "execute_result"
    }
   ],
   "source": [
    "llm_response"
   ]
  },
  {
   "cell_type": "code",
   "execution_count": null,
   "metadata": {},
   "outputs": [],
   "source": []
  }
 ],
 "metadata": {
  "kernelspec": {
   "display_name": "chatbot",
   "language": "python",
   "name": "python3"
  },
  "language_info": {
   "codemirror_mode": {
    "name": "ipython",
    "version": 3
   },
   "file_extension": ".py",
   "mimetype": "text/x-python",
   "name": "python",
   "nbconvert_exporter": "python",
   "pygments_lexer": "ipython3",
   "version": "3.12.2"
  }
 },
 "nbformat": 4,
 "nbformat_minor": 2
}
